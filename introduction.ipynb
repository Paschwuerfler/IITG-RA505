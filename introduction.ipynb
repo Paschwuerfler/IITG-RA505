{
 "cells": [
  {
   "cell_type": "code",
   "execution_count": null,
   "metadata": {},
   "outputs": [],
   "source": []
  },
  {
   "attachments": {},
   "cell_type": "markdown",
   "metadata": {},
   "source": [
    "# RA 505 \n",
    "\n",
    "Dr. Debajit Sarma\n",
    "Dr. Rishikesh Kulkarni\n",
    "\n",
    "Mail : s.debajit@iitg.ac.in\n",
    "\n",
    "TA: Anindita Bora (anindita.b@iitg.ac.in) "
   ]
  },
  {
   "attachments": {},
   "cell_type": "markdown",
   "metadata": {},
   "source": [
    "## Syllabus \n",
    "\n",
    "- Robotic vision sensors and their interfacing \n",
    "\n",
    "- Fundamentals of Computer Vision: \n",
    "-\n"
   ]
  },
  {
   "cell_type": "code",
   "execution_count": null,
   "metadata": {},
   "outputs": [],
   "source": []
  },
  {
   "cell_type": "code",
   "execution_count": null,
   "metadata": {},
   "outputs": [
    {
     "name": "stdout",
     "output_type": "stream",
     "text": [
      "150 : 30.0\n",
      "200 : 40.0\n",
      "100 : 20.0\n",
      "250 : 50.0\n",
      "200 : 40.0\n",
      "30 : 6.0\n",
      "70 : 14.0\n"
     ]
    }
   ],
   "source": [
    "a = [150, 200, 100, 250, 200, 30, 70]\n",
    "\n",
    "\n",
    "for i in a:\n",
    "    print(str(i) + \" : \" + str(i/5))"
   ]
  },
  {
   "cell_type": "code",
   "execution_count": 1,
   "metadata": {},
   "outputs": [],
   "source": [
    "def isEven(x): \n",
    "    if(x == 0):\n",
    "        return True\n",
    "    elif(x == 1):\n",
    "        return False\n",
    "    \n",
    "    return isEven(x-2)"
   ]
  },
  {
   "cell_type": "code",
   "execution_count": 3,
   "metadata": {},
   "outputs": [
    {
     "name": "stdout",
     "output_type": "stream",
     "text": [
      "False\n",
      "True\n",
      "True\n",
      "True\n",
      "----\n",
      "True\n",
      "False\n",
      "False\n",
      "False\n",
      "True\n",
      "False\n"
     ]
    }
   ],
   "source": [
    "def isOdd(x): \n",
    "    if(type(x) != int):\n",
    "        return False\n",
    "    else:\n",
    "        return isOddHelper(abs(x))\n",
    "\n",
    "def isEvenHelper(x):\n",
    "    if(type(x) != int):\n",
    "        return False\n",
    "    else:\n",
    "        return isEvenHelper(abs(x))\n",
    "\n",
    "\n",
    "def isOddHelper(x):\n",
    "    if(x == 1):\n",
    "        return True\n",
    "    elif(x == 0):\n",
    "        return False\n",
    "\n",
    "    return isEven(x - 1)\n",
    "\n",
    "def isEvenHelper(x):\n",
    "    if(x <= 0):\n",
    "        return True\n",
    "\n",
    "    return isOdd(x - 1)\n",
    "\n",
    "\n",
    "print(isEven(5))\n",
    "print(isEven(6))\n",
    "print(isEven(0))\n",
    "print(isEven(-10))\n",
    "\n",
    "print(\"----\"   )\n",
    "\n",
    "\n",
    "print(isOdd(5))\n",
    "print(isOdd(6))\n",
    "print(isOdd(0))\n",
    "print(isOdd(-10))\n",
    "print(isOdd(-11))\n",
    "print(isOdd(1.1))\n",
    "\n"
   ]
  }
 ],
 "metadata": {
  "kernelspec": {
   "display_name": "base",
   "language": "python",
   "name": "python3"
  },
  "language_info": {
   "codemirror_mode": {
    "name": "ipython",
    "version": 3
   },
   "file_extension": ".py",
   "mimetype": "text/x-python",
   "name": "python",
   "nbconvert_exporter": "python",
   "pygments_lexer": "ipython3",
   "version": "3.9.12"
  },
  "orig_nbformat": 4,
  "vscode": {
   "interpreter": {
    "hash": "ad2bdc8ecc057115af97d19610ffacc2b4e99fae6737bb82f5d7fb13d2f2c186"
   }
  }
 },
 "nbformat": 4,
 "nbformat_minor": 2
}
